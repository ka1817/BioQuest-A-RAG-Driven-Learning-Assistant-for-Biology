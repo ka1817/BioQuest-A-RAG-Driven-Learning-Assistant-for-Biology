{
 "cells": [
  {
   "cell_type": "code",
   "execution_count": 2,
   "id": "3259c72a",
   "metadata": {},
   "outputs": [
    {
     "data": {
      "text/plain": [
       "True"
      ]
     },
     "execution_count": 2,
     "metadata": {},
     "output_type": "execute_result"
    }
   ],
   "source": [
    "from dotenv import load_dotenv \n",
    "load_dotenv()"
   ]
  },
  {
   "cell_type": "code",
   "execution_count": 6,
   "id": "e9a816ab",
   "metadata": {},
   "outputs": [],
   "source": [
    "from langchain.document_loaders import DirectoryLoader \n",
    "from langchain.document_loaders import PyPDFLoader \n",
    "data_folder = \"../data\"  \n",
    "\n",
    "loader = DirectoryLoader(data_folder, glob=\"*.pdf\", loader_cls=PyPDFLoader)\n",
    "documents = loader.load()\n"
   ]
  },
  {
   "cell_type": "code",
   "execution_count": 7,
   "id": "0963dcee",
   "metadata": {},
   "outputs": [
    {
     "data": {
      "text/plain": [
       "436"
      ]
     },
     "execution_count": 7,
     "metadata": {},
     "output_type": "execute_result"
    }
   ],
   "source": [
    "len(documents)"
   ]
  },
  {
   "cell_type": "code",
   "execution_count": 12,
   "id": "222f7888",
   "metadata": {},
   "outputs": [],
   "source": [
    "from langchain.text_splitter import RecursiveCharacterTextSplitter \n",
    "splitter=RecursiveCharacterTextSplitter(chunk_size=500,chunk_overlap=150)"
   ]
  },
  {
   "cell_type": "code",
   "execution_count": 13,
   "id": "0adcb68b",
   "metadata": {},
   "outputs": [],
   "source": [
    "chunks=splitter.split_documents(documents)"
   ]
  },
  {
   "cell_type": "code",
   "execution_count": 14,
   "id": "f4c16477",
   "metadata": {},
   "outputs": [
    {
     "data": {
      "text/plain": [
       "6215"
      ]
     },
     "execution_count": 14,
     "metadata": {},
     "output_type": "execute_result"
    }
   ],
   "source": [
    "len(chunks)"
   ]
  },
  {
   "cell_type": "code",
   "execution_count": 15,
   "id": "6f60402f",
   "metadata": {},
   "outputs": [
    {
     "name": "stderr",
     "output_type": "stream",
     "text": [
      "C:\\Users\\saipr\\AppData\\Local\\Temp\\ipykernel_9948\\3920331017.py:2: LangChainDeprecationWarning: The class `HuggingFaceEmbeddings` was deprecated in LangChain 0.2.2 and will be removed in 1.0. An updated version of the class exists in the :class:`~langchain-huggingface package and should be used instead. To use it run `pip install -U :class:`~langchain-huggingface` and import as `from :class:`~langchain_huggingface import HuggingFaceEmbeddings``.\n",
      "  embeddings = HuggingFaceEmbeddings(model_name=\"sentence-transformers/all-MiniLM-L6-v2\")\n",
      "c:\\Users\\saipr\\BioRag\\venv\\lib\\site-packages\\tqdm\\auto.py:21: TqdmWarning: IProgress not found. Please update jupyter and ipywidgets. See https://ipywidgets.readthedocs.io/en/stable/user_install.html\n",
      "  from .autonotebook import tqdm as notebook_tqdm\n"
     ]
    }
   ],
   "source": [
    "from langchain.embeddings import HuggingFaceEmbeddings\n",
    "embeddings = HuggingFaceEmbeddings(model_name=\"sentence-transformers/all-MiniLM-L6-v2\")\n"
   ]
  },
  {
   "cell_type": "code",
   "execution_count": 16,
   "id": "20b0aac2",
   "metadata": {},
   "outputs": [],
   "source": [
    "from langchain.vectorstores import FAISS \n",
    "vectorstore=FAISS.from_documents(chunks,embeddings)\n"
   ]
  },
  {
   "cell_type": "code",
   "execution_count": 41,
   "id": "3dec47e5",
   "metadata": {},
   "outputs": [],
   "source": [
    "retriver=vectorstore.as_retriever()"
   ]
  },
  {
   "cell_type": "code",
   "execution_count": 45,
   "id": "c6da81ff",
   "metadata": {},
   "outputs": [],
   "source": [
    "retriver = vectorstore.as_retriever(search_kwargs={\"k\": 5})\n"
   ]
  },
  {
   "cell_type": "code",
   "execution_count": 25,
   "id": "83a1f3bf",
   "metadata": {},
   "outputs": [],
   "source": [
    "query=\"what is Endoplasmic reticulum (ER)\"\n",
    "docc=retriver.get_relevant_documents(query,k=10)"
   ]
  },
  {
   "cell_type": "code",
   "execution_count": 26,
   "id": "42c313ed",
   "metadata": {},
   "outputs": [
    {
     "data": {
      "text/plain": [
       "[Document(id='64bebd7c-963a-4417-afa8-4a9f847795d0', metadata={'producer': '3-Heights(TM) PDF Optimization Shell 4.8.25.2 (http://www.pdf-tools.com)', 'creator': 'PageMaker 7.0', 'creationdate': '2017-01-18T18:28:08+05:30', 'author': 'Admin', 'title': 'IX Bio_Title Free.pmd', 'moddate': '2019-05-28T07:37:38+00:00', 'source': '..\\\\data\\\\ix biology em.pdf', 'total_pages': 194, 'page': 17, 'page_label': '18'}, page_content='Cell  its structure and functions6\\nsubstances from one part of the cell to\\nanother. This network of membranes is\\nknown as the endoplasmic reticulum.\\nThe endoplasmic reticulum (ER) is a\\nlarge network of membrane-bound tubes\\nand sheets. The ER membrane is similar in\\nstructure to the plasma membrane.\\nEndoplasmic reticulum may have some\\ngranule like structure on its surface which\\nare called ribosomes, Such ER is called\\nrough endoplasmic reticulum (RER).\\nAreas/sections of ER that do not have'),\n",
       " Document(id='1b74ad9c-9271-4b6c-9159-7a0ae3fac413', metadata={'producer': '3-Heights(TM) PDF Optimization Shell 4.8.25.2 (http://www.pdf-tools.com)', 'creator': 'PageMaker 7.0', 'creationdate': '2017-01-18T18:28:08+05:30', 'author': 'Admin', 'title': 'IX Bio_Title Free.pmd', 'moddate': '2019-05-28T07:37:38+00:00', 'source': '..\\\\data\\\\ix biology em.pdf', 'total_pages': 194, 'page': 17, 'page_label': '18'}, page_content='are called ribosomes, Such ER is called\\nrough endoplasmic reticulum (RER).\\nAreas/sections of ER that do not have\\nribosomes on them are called smooth\\nendoplasmic reticulum (SER). Rough\\nendoplasmic reticulum is site of protein\\nmanufacture. The SER helps in the\\nmanufacture of fat molecules or lipids,\\nimportant for cell function. The\\nmanufactured proteins and lipids are then\\nsent to various places in the cell depending\\non need, using the ER. Some of these proteins'),\n",
       " Document(id='1a4b6bae-2c80-42ea-964d-d8bf9ba3d018', metadata={'producer': '3-Heights(TM) PDF Optimization Shell 4.8.25.2 (http://www.pdf-tools.com)', 'creator': 'PageMaker 7.0', 'creationdate': '2017-01-18T18:28:08+05:30', 'author': 'Admin', 'title': 'IX Bio_Title Free.pmd', 'moddate': '2019-05-28T07:37:38+00:00', 'source': '..\\\\data\\\\ix biology em.pdf', 'total_pages': 194, 'page': 16, 'page_label': '17'}, page_content='7. Vacuoles.\\nThey are important because they carry\\nout very crucial functions in the cells.\\nEndoplasmic reticulum (ER)\\nWhen the cell was observed under the\\nelectron microscope, a network of\\nmembranes was observed throughout the\\ncytoplasm. This network creates passages\\nwithin the cytoplasm for the transport of\\nFig-6 Endoplasmic Reticulum under microscope\\nRough Endoplasmic Reticulum\\nSmooth\\nEndoplasmic\\nReticulum\\nRibosomes\\nSCERT\\nThis region takes up very little stain. It is\\nSCERT'),\n",
       " Document(id='780c35b2-6d98-4a43-8afd-741158a97e4d', metadata={'producer': '3-Heights(TM) PDF Optimization Shell 4.8.25.2 (http://www.pdf-tools.com)', 'creator': 'PageMaker 7.0', 'creationdate': '2017-01-18T18:28:08+05:30', 'author': 'Admin', 'title': 'IX Bio_Title Free.pmd', 'moddate': '2019-05-28T07:37:38+00:00', 'source': '..\\\\data\\\\ix biology em.pdf', 'total_pages': 194, 'page': 16, 'page_label': '17'}, page_content='was differentiated after the discovery of\\nnucleus. Hence, protoplasm was renamed\\nas cytoplasm, that is, cell fluid. The fluid\\ninside the nucleus came to be known as the\\nnuclear fluid or nucleoplasm.\\nCell organelles\\nNow let us discuss some important cell\\norganelles. 1. Mitochondria, 2. Plastids,\\n3. Ribosomes,  4. Endoplasmic reticulum,\\n5.Golgi apparatus, 6.Lysosomes,\\n7. Vacuoles.\\nThey are important because they carry\\nout very crucial functions in the cells.\\nEndoplasmic reticulum (ER)'),\n",
       " Document(id='cdd9d1d9-eac0-46e6-acba-e046caa9b6f7', metadata={'producer': '3-Heights(TM) PDF Optimization Shell 4.8.25.2 (http://www.pdf-tools.com)', 'creator': 'PageMaker 7.0', 'creationdate': '2017-01-18T18:28:08+05:30', 'author': 'Admin', 'title': 'IX Bio_Title Free.pmd', 'moddate': '2019-05-28T07:37:38+00:00', 'source': '..\\\\data\\\\ix biology em.pdf', 'total_pages': 194, 'page': 17, 'page_label': '18'}, page_content='manufactured proteins and lipids are then\\nsent to various places in the cell depending\\non need, using the ER. Some of these proteins\\nand lipids help in building the cell\\nmembrane.\\nThus, one function of the ER is to serve\\nas channels for the transport of materials\\n(especially proteins) between various\\nregions of the cytoplasm or between the\\ncytoplasm and the nucleus. It also functions\\nas a cytoplasmic framework providing a\\nsurface for some of the biochemical'),\n",
       " Document(id='efdbe1ad-8afa-4f7d-a584-2e980b5f6a06', metadata={'producer': '3-Heights(TM) PDF Optimization Shell 4.8.25.2 (http://www.pdf-tools.com)', 'creator': 'PageMaker 7.0', 'creationdate': '2017-01-18T18:28:08+05:30', 'author': 'Admin', 'title': 'IX Bio_Title Free.pmd', 'moddate': '2019-05-28T07:37:38+00:00', 'source': '..\\\\data\\\\ix biology em.pdf', 'total_pages': 194, 'page': 21, 'page_label': '22'}, page_content='SCERT\\nThe endoplasmic reticulum functions both as passageway for intra cellular transport\\nand manufacturing surface.\\nSCERT\\nand manufacturing surface.\\nLysosomes are membrane bound sacs filled with digestive enzymes.\\nSCERT\\nLysosomes are membrane bound sacs filled with digestive enzymes.\\nThe Golgi apparatus consists of stacks of membranes bound vesicles that function\\nSCERT\\nThe Golgi apparatus consists of stacks of membranes bound vesicles that function\\nin the storage.\\nSCERT\\nin the storage.'),\n",
       " Document(id='bda8bfcc-73e5-4644-89a2-8aee6f638ac2', metadata={'producer': '3-Heights(TM) PDF Optimization Shell 4.8.25.2 (http://www.pdf-tools.com)', 'creator': 'PageMaker 7.0', 'creationdate': '2017-01-18T18:28:08+05:30', 'author': 'Admin', 'title': 'IX Bio_Title Free.pmd', 'moddate': '2019-05-28T07:37:38+00:00', 'source': '..\\\\data\\\\ix biology em.pdf', 'total_pages': 194, 'page': 21, 'page_label': '22'}, page_content='Plasma membrane is a selectively permeable membrane.\\nIn plant cells, a cell wall composed of cellulose is located outside the cell\\nmembrane.\\nIn prokaryotes nuclear membrane is absent.\\nThe endoplasmic reticulum functions both as passageway for intra cellular transport\\nand manufacturing surface.\\nLysosomes are membrane bound sacs filled with digestive enzymes.\\nThe Golgi apparatus consists of stacks of membranes bound vesicles that function\\nin the storage.'),\n",
       " Document(id='8e612a69-12e7-4114-a1bf-7897c55e3049', metadata={'producer': '3-Heights(TM) PDF Optimization Shell 4.8.25.2 (http://www.pdf-tools.com)', 'creator': 'PageMaker 7.0', 'creationdate': '2017-01-18T18:28:08+05:30', 'author': 'Admin', 'title': 'IX Bio_Title Free.pmd', 'moddate': '2019-05-28T07:37:38+00:00', 'source': '..\\\\data\\\\ix biology em.pdf', 'total_pages': 194, 'page': 16, 'page_label': '17'}, page_content='Rough Endoplasmic Reticulum\\nSmooth\\nEndoplasmic\\nReticulum\\nRibosomes\\nSCERT\\nThis region takes up very little stain. It is\\nSCERT\\nThis region takes up very little stain. It is\\ncalled the cytoplasm. The cytoplasm is the\\nSCERT\\ncalled the cytoplasm. The cytoplasm is the\\nfluid content bounded by the plasma\\nSCERT\\nfluid content bounded by the plasma\\nmembrane. It also contains many\\nSCERT\\nmembrane. It also contains many\\nspecialised cell organelles.  Each of these\\nSCERT'),\n",
       " Document(id='c53f6c14-043b-4ba2-9df4-823a563b0030', metadata={'producer': '3-Heights(TM) PDF Optimization Shell 4.8.25.2 (http://www.pdf-tools.com)', 'creator': 'PageMaker 7.0', 'creationdate': '2017-01-18T18:28:08+05:30', 'author': 'Admin', 'title': 'IX Bio_Title Free.pmd', 'moddate': '2019-05-28T07:37:38+00:00', 'source': '..\\\\data\\\\ix biology em.pdf', 'total_pages': 194, 'page': 17, 'page_label': '18'}, page_content='used to regenerate or repair the membrane.\\nThe number of golgi bodies varies from\\ncell to cell. Their number is particularly\\nlarge in those cells that secrete hormones\\nand enzymes.\\nLysosome\\nOne of the facts that troubled the\\nscientists for a long time was that, certain\\nenzymes present in the cell have the ability\\nFig-7 Golgi Complex\\nSCERT\\non need, using the ER. Some of these proteins\\nSCERT\\non need, using the ER. Some of these proteins\\nand lipids help in building the cell\\nSCERT'),\n",
       " Document(id='9549c1cb-2b4a-4a12-9130-8f044a8c7324', metadata={'producer': '3-Heights(TM) PDF Optimization Shell 4.8.25.2 (http://www.pdf-tools.com)', 'creator': 'PageMaker 7.0', 'creationdate': '2017-01-18T18:28:08+05:30', 'author': 'Admin', 'title': 'IX Bio_Title Free.pmd', 'moddate': '2019-05-28T07:37:38+00:00', 'source': '..\\\\data\\\\ix biology em.pdf', 'total_pages': 194, 'page': 21, 'page_label': '22'}, page_content='Plasma membrane is a selectively permeable membrane.\\nIn plant cells, a cell wall composed of cellulose is located outside the cell\\nTELANGANA\\nIn plant cells, a cell wall composed of cellulose is located outside the cell\\nIn prokaryotes nuclear membrane is absent.\\nTELANGANA\\nIn prokaryotes nuclear membrane is absent.\\nThe endoplasmic reticulum functions both as passageway for intra cellular transport\\nTELANGANA\\nThe endoplasmic reticulum functions both as passageway for intra cellular transport')]"
      ]
     },
     "execution_count": 26,
     "metadata": {},
     "output_type": "execute_result"
    }
   ],
   "source": [
    "docc"
   ]
  },
  {
   "cell_type": "code",
   "execution_count": 27,
   "id": "118b6216",
   "metadata": {},
   "outputs": [],
   "source": [
    "from langchain_groq import ChatGroq \n",
    "import os \n",
    "GROQ_API_KEY=os.getenv('GROQ_API_KEY')\n",
    "\n",
    "llm=ChatGroq(api_key=GROQ_API_KEY,model='llama-3.3-70b-versatile')"
   ]
  },
  {
   "cell_type": "code",
   "execution_count": 53,
   "id": "8500889f",
   "metadata": {},
   "outputs": [],
   "source": [
    "from langchain_community.retrievers import BM25Retriever\n",
    "from langchain.retrievers import EnsembleRetriever\n",
    "\n",
    "retriever_dense = vectorstore.as_retriever(search_kwargs={\"k\": 10})  \n",
    "bm25_retriever = BM25Retriever.from_documents(chunks)\n",
    "\n",
    "hybrid_retriever = EnsembleRetriever(retrievers=[retriever_dense, bm25_retriever], weights=[0.5, 0.5])\n"
   ]
  },
  {
   "cell_type": "code",
   "execution_count": 63,
   "id": "8de45005",
   "metadata": {},
   "outputs": [],
   "source": [
    "from langchain.prompts import ChatPromptTemplate\n",
    "\n",
    "prompt = ChatPromptTemplate.from_messages([\n",
    "    (\"system\", \"You are a helpful and knowledgeable biology tutor. Answer clearly and accurately.if the query is out of sylabus just give Out of syllabus\"),\n",
    "    (\"human\", \"Context:\\n{context}\\n\\nQuestion: {question}\")\n",
    "])\n"
   ]
  },
  {
   "cell_type": "code",
   "execution_count": null,
   "id": "c66f9579",
   "metadata": {},
   "outputs": [
    {
     "name": "stdout",
     "output_type": "stream",
     "text": [
      "Out of syllabus\n"
     ]
    }
   ],
   "source": [
    "from langchain.chains import RetrievalQA\n",
    "qa_chain = RetrievalQA.from_chain_type(\n",
    "    llm=llm,\n",
    "    retriever=hybrid_retriever,  \n",
    "    return_source_documents=True,\n",
    "    chain_type=\"stuff\",  \n",
    "    chain_type_kwargs={\"prompt\": prompt}  )\n",
    "\n",
    "query = \"Who is virat kohli\"\n",
    "result = qa_chain({\"query\": query})\n",
    "print(result['result'])"
   ]
  },
  {
   "cell_type": "code",
   "execution_count": 50,
   "id": "790eac08",
   "metadata": {},
   "outputs": [
    {
     "name": "stdout",
     "output_type": "stream",
     "text": [
      "\n",
      "💡 AI Answer: The human brain can be divided into several parts, each with distinct functions. Here's an overview of the main parts of the brain and their functions:\n",
      "\n",
      "1. **Forebrain**: The forebrain is the most advanced part of the brain and is responsible for higher-level cognitive functions such as thought, emotion, and movement. It consists of two main parts:\n",
      "\t* **Cerebrum**: The cerebrum is the largest part of the brain and is divided into two hemispheres: the left hemisphere and the right hemisphere. The cerebrum is responsible for processing sensory information, controlling movement, and managing higher-level cognitive functions such as thought, emotion, and memory.\n",
      "\t* **Diencephalon**: The diencephalon is a small region that connects the cerebrum to the brainstem. It plays a role in relaying sensory information to the cerebrum and regulating body functions such as sleep, hunger, and thirst.\n",
      "2. **Midbrain**: The midbrain is a small region that connects the forebrain to the hindbrain. It plays a role in regulating body functions such as hearing, vision, and body temperature.\n",
      "3. **Hindbrain**: The hindbrain is responsible for controlling automatic functions such as breathing, heart rate, and blood pressure. It consists of two main parts:\n",
      "\t* **Cerebellum**: The cerebellum is located at the base of the brain and is responsible for coordinating movement, balance, and posture.\n",
      "\t* **Medulla oblongata**: The medulla oblongata is the lowest part of the brainstem and connects the brain to the spinal cord. It regulates automatic functions such as breathing, heart rate, and blood pressure.\n",
      "4. **Brainstem**: The brainstem connects the cerebrum to the spinal cord and regulates basic functions such as breathing, heart rate, and blood pressure. It consists of the midbrain, pons, and medulla oblongata.\n",
      "5. **Olfactory lobes**: The olfactory lobes are responsible for processing sensory information related to smell.\n",
      "6. **Pituitary gland**: The pituitary gland is a small endocrine gland that regulates hormone production and plays a role in growth and development.\n",
      "\n",
      "Other important functions of the brain include:\n",
      "\n",
      "* **Sensory processing**: The brain receives and interprets sensory information from the environment, such as sight, sound, touch, taste, and smell.\n",
      "* **Motor control**: The brain sends signals to the muscles and glands to control movement and other bodily functions.\n",
      "* **Emotion and motivation**: The brain plays a role in regulating emotions, motivation, and behavior.\n",
      "* **Memory and learning**: The brain is responsible for forming and storing memories, as well as learning new information and skills.\n",
      "\n",
      "Overall, the brain is a complex and highly specialized organ that plays a critical role in controlling the body's functions and enabling us to interact with the world around us.\n"
     ]
    }
   ],
   "source": [
    "from sentence_transformers import CrossEncoder\n",
    "from langchain.chains.question_answering import load_qa_chain\n",
    "from langchain.llms import OpenAI\n",
    "from langchain.schema import Document\n",
    "from typing import List\n",
    "\n",
    "reranker = CrossEncoder(\"cross-encoder/ms-marco-MiniLM-L-6-v2\")\n",
    "\n",
    "def rerank_documents(query: str, retrieved_docs: List[Document]) -> List[Document]:\n",
    "    \"\"\"Re-rank retrieved documents using a Cross-Encoder.\"\"\"\n",
    "    docs_texts = [doc.page_content for doc in retrieved_docs]\n",
    "    scores = reranker.predict([(query, doc) for doc in docs_texts])\n",
    "    \n",
    "    sorted_docs = [doc for _, doc in sorted(zip(scores, retrieved_docs), key=lambda x: x[0], reverse=True)]\n",
    "    return sorted_docs\n",
    "\n",
    "query = \"Explain the parts of human brain and their functions\"\n",
    "retrieved_docs = retriver.get_relevant_documents(query,k=5)  \n",
    "reranked_docs = rerank_documents(query, retrieved_docs)  \n",
    "\n",
    "qa_chain = load_qa_chain(llm, chain_type=\"stuff\")\n",
    "\n",
    "final_answer = qa_chain.run(input_documents=reranked_docs, question=query)\n",
    "\n",
    "\n",
    "print(\"\\n💡 AI Answer:\", final_answer)\n"
   ]
  },
  {
   "cell_type": "code",
   "execution_count": null,
   "id": "759b7486",
   "metadata": {},
   "outputs": [],
   "source": []
  }
 ],
 "metadata": {
  "kernelspec": {
   "display_name": "venv",
   "language": "python",
   "name": "python3"
  },
  "language_info": {
   "codemirror_mode": {
    "name": "ipython",
    "version": 3
   },
   "file_extension": ".py",
   "mimetype": "text/x-python",
   "name": "python",
   "nbconvert_exporter": "python",
   "pygments_lexer": "ipython3",
   "version": "3.10.16"
  }
 },
 "nbformat": 4,
 "nbformat_minor": 5
}
