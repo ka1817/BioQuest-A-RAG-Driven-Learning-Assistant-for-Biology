{
 "cells": [
  {
   "cell_type": "code",
   "execution_count": 111,
   "id": "3259c72a",
   "metadata": {},
   "outputs": [
    {
     "data": {
      "text/plain": [
       "True"
      ]
     },
     "execution_count": 111,
     "metadata": {},
     "output_type": "execute_result"
    }
   ],
   "source": [
    "from dotenv import load_dotenv \n",
    "load_dotenv()"
   ]
  },
  {
   "cell_type": "code",
   "execution_count": 112,
   "id": "e9a816ab",
   "metadata": {},
   "outputs": [],
   "source": [
    "from langchain.document_loaders import DirectoryLoader \n",
    "from langchain.document_loaders import PyPDFLoader \n",
    "data_folder = \"../data\"  \n",
    "\n",
    "loader = DirectoryLoader(data_folder, glob=\"*.pdf\", loader_cls=PyPDFLoader)\n",
    "documents = loader.load()\n"
   ]
  },
  {
   "cell_type": "code",
   "execution_count": 113,
   "id": "0963dcee",
   "metadata": {},
   "outputs": [
    {
     "data": {
      "text/plain": [
       "436"
      ]
     },
     "execution_count": 113,
     "metadata": {},
     "output_type": "execute_result"
    }
   ],
   "source": [
    "len(documents)"
   ]
  },
  {
   "cell_type": "code",
   "execution_count": 114,
   "id": "222f7888",
   "metadata": {},
   "outputs": [],
   "source": [
    "from langchain.text_splitter import RecursiveCharacterTextSplitter \n",
    "splitter=RecursiveCharacterTextSplitter(chunk_size=500,chunk_overlap=100)"
   ]
  },
  {
   "cell_type": "code",
   "execution_count": 115,
   "id": "0adcb68b",
   "metadata": {},
   "outputs": [],
   "source": [
    "chunks=splitter.split_documents(documents)"
   ]
  },
  {
   "cell_type": "code",
   "execution_count": 116,
   "id": "f4c16477",
   "metadata": {},
   "outputs": [
    {
     "data": {
      "text/plain": [
       "5608"
      ]
     },
     "execution_count": 116,
     "metadata": {},
     "output_type": "execute_result"
    }
   ],
   "source": [
    "len(chunks)"
   ]
  },
  {
   "cell_type": "code",
   "execution_count": 117,
   "id": "6f60402f",
   "metadata": {},
   "outputs": [],
   "source": [
    "from langchain.embeddings import HuggingFaceEmbeddings\n",
    "embeddings = HuggingFaceEmbeddings(model_name=\"sentence-transformers/all-MiniLM-L6-v2\")\n"
   ]
  },
  {
   "cell_type": "code",
   "execution_count": 118,
   "id": "20b0aac2",
   "metadata": {},
   "outputs": [],
   "source": [
    "from langchain.vectorstores import FAISS \n",
    "vectorstore=FAISS.from_documents(chunks,embeddings)\n"
   ]
  },
  {
   "cell_type": "code",
   "execution_count": 119,
   "id": "3dec47e5",
   "metadata": {},
   "outputs": [],
   "source": [
    "retriver=vectorstore.as_retriever()"
   ]
  },
  {
   "cell_type": "code",
   "execution_count": 12,
   "id": "c6da81ff",
   "metadata": {},
   "outputs": [],
   "source": [
    "retriver = vectorstore.as_retriever(search_kwargs={\"k\": 5})\n"
   ]
  },
  {
   "cell_type": "code",
   "execution_count": 25,
   "id": "83a1f3bf",
   "metadata": {},
   "outputs": [],
   "source": [
    "query=\"what is Endoplasmic reticulum (ER)\"\n",
    "docc=retriver.get_relevant_documents(query,k=10)"
   ]
  },
  {
   "cell_type": "code",
   "execution_count": 26,
   "id": "42c313ed",
   "metadata": {},
   "outputs": [
    {
     "data": {
      "text/plain": [
       "[Document(id='64bebd7c-963a-4417-afa8-4a9f847795d0', metadata={'producer': '3-Heights(TM) PDF Optimization Shell 4.8.25.2 (http://www.pdf-tools.com)', 'creator': 'PageMaker 7.0', 'creationdate': '2017-01-18T18:28:08+05:30', 'author': 'Admin', 'title': 'IX Bio_Title Free.pmd', 'moddate': '2019-05-28T07:37:38+00:00', 'source': '..\\\\data\\\\ix biology em.pdf', 'total_pages': 194, 'page': 17, 'page_label': '18'}, page_content='Cell  its structure and functions6\\nsubstances from one part of the cell to\\nanother. This network of membranes is\\nknown as the endoplasmic reticulum.\\nThe endoplasmic reticulum (ER) is a\\nlarge network of membrane-bound tubes\\nand sheets. The ER membrane is similar in\\nstructure to the plasma membrane.\\nEndoplasmic reticulum may have some\\ngranule like structure on its surface which\\nare called ribosomes, Such ER is called\\nrough endoplasmic reticulum (RER).\\nAreas/sections of ER that do not have'),\n",
       " Document(id='1b74ad9c-9271-4b6c-9159-7a0ae3fac413', metadata={'producer': '3-Heights(TM) PDF Optimization Shell 4.8.25.2 (http://www.pdf-tools.com)', 'creator': 'PageMaker 7.0', 'creationdate': '2017-01-18T18:28:08+05:30', 'author': 'Admin', 'title': 'IX Bio_Title Free.pmd', 'moddate': '2019-05-28T07:37:38+00:00', 'source': '..\\\\data\\\\ix biology em.pdf', 'total_pages': 194, 'page': 17, 'page_label': '18'}, page_content='are called ribosomes, Such ER is called\\nrough endoplasmic reticulum (RER).\\nAreas/sections of ER that do not have\\nribosomes on them are called smooth\\nendoplasmic reticulum (SER). Rough\\nendoplasmic reticulum is site of protein\\nmanufacture. The SER helps in the\\nmanufacture of fat molecules or lipids,\\nimportant for cell function. The\\nmanufactured proteins and lipids are then\\nsent to various places in the cell depending\\non need, using the ER. Some of these proteins'),\n",
       " Document(id='1a4b6bae-2c80-42ea-964d-d8bf9ba3d018', metadata={'producer': '3-Heights(TM) PDF Optimization Shell 4.8.25.2 (http://www.pdf-tools.com)', 'creator': 'PageMaker 7.0', 'creationdate': '2017-01-18T18:28:08+05:30', 'author': 'Admin', 'title': 'IX Bio_Title Free.pmd', 'moddate': '2019-05-28T07:37:38+00:00', 'source': '..\\\\data\\\\ix biology em.pdf', 'total_pages': 194, 'page': 16, 'page_label': '17'}, page_content='7. Vacuoles.\\nThey are important because they carry\\nout very crucial functions in the cells.\\nEndoplasmic reticulum (ER)\\nWhen the cell was observed under the\\nelectron microscope, a network of\\nmembranes was observed throughout the\\ncytoplasm. This network creates passages\\nwithin the cytoplasm for the transport of\\nFig-6 Endoplasmic Reticulum under microscope\\nRough Endoplasmic Reticulum\\nSmooth\\nEndoplasmic\\nReticulum\\nRibosomes\\nSCERT\\nThis region takes up very little stain. It is\\nSCERT'),\n",
       " Document(id='780c35b2-6d98-4a43-8afd-741158a97e4d', metadata={'producer': '3-Heights(TM) PDF Optimization Shell 4.8.25.2 (http://www.pdf-tools.com)', 'creator': 'PageMaker 7.0', 'creationdate': '2017-01-18T18:28:08+05:30', 'author': 'Admin', 'title': 'IX Bio_Title Free.pmd', 'moddate': '2019-05-28T07:37:38+00:00', 'source': '..\\\\data\\\\ix biology em.pdf', 'total_pages': 194, 'page': 16, 'page_label': '17'}, page_content='was differentiated after the discovery of\\nnucleus. Hence, protoplasm was renamed\\nas cytoplasm, that is, cell fluid. The fluid\\ninside the nucleus came to be known as the\\nnuclear fluid or nucleoplasm.\\nCell organelles\\nNow let us discuss some important cell\\norganelles. 1. Mitochondria, 2. Plastids,\\n3. Ribosomes,  4. Endoplasmic reticulum,\\n5.Golgi apparatus, 6.Lysosomes,\\n7. Vacuoles.\\nThey are important because they carry\\nout very crucial functions in the cells.\\nEndoplasmic reticulum (ER)'),\n",
       " Document(id='cdd9d1d9-eac0-46e6-acba-e046caa9b6f7', metadata={'producer': '3-Heights(TM) PDF Optimization Shell 4.8.25.2 (http://www.pdf-tools.com)', 'creator': 'PageMaker 7.0', 'creationdate': '2017-01-18T18:28:08+05:30', 'author': 'Admin', 'title': 'IX Bio_Title Free.pmd', 'moddate': '2019-05-28T07:37:38+00:00', 'source': '..\\\\data\\\\ix biology em.pdf', 'total_pages': 194, 'page': 17, 'page_label': '18'}, page_content='manufactured proteins and lipids are then\\nsent to various places in the cell depending\\non need, using the ER. Some of these proteins\\nand lipids help in building the cell\\nmembrane.\\nThus, one function of the ER is to serve\\nas channels for the transport of materials\\n(especially proteins) between various\\nregions of the cytoplasm or between the\\ncytoplasm and the nucleus. It also functions\\nas a cytoplasmic framework providing a\\nsurface for some of the biochemical'),\n",
       " Document(id='efdbe1ad-8afa-4f7d-a584-2e980b5f6a06', metadata={'producer': '3-Heights(TM) PDF Optimization Shell 4.8.25.2 (http://www.pdf-tools.com)', 'creator': 'PageMaker 7.0', 'creationdate': '2017-01-18T18:28:08+05:30', 'author': 'Admin', 'title': 'IX Bio_Title Free.pmd', 'moddate': '2019-05-28T07:37:38+00:00', 'source': '..\\\\data\\\\ix biology em.pdf', 'total_pages': 194, 'page': 21, 'page_label': '22'}, page_content='SCERT\\nThe endoplasmic reticulum functions both as passageway for intra cellular transport\\nand manufacturing surface.\\nSCERT\\nand manufacturing surface.\\nLysosomes are membrane bound sacs filled with digestive enzymes.\\nSCERT\\nLysosomes are membrane bound sacs filled with digestive enzymes.\\nThe Golgi apparatus consists of stacks of membranes bound vesicles that function\\nSCERT\\nThe Golgi apparatus consists of stacks of membranes bound vesicles that function\\nin the storage.\\nSCERT\\nin the storage.'),\n",
       " Document(id='bda8bfcc-73e5-4644-89a2-8aee6f638ac2', metadata={'producer': '3-Heights(TM) PDF Optimization Shell 4.8.25.2 (http://www.pdf-tools.com)', 'creator': 'PageMaker 7.0', 'creationdate': '2017-01-18T18:28:08+05:30', 'author': 'Admin', 'title': 'IX Bio_Title Free.pmd', 'moddate': '2019-05-28T07:37:38+00:00', 'source': '..\\\\data\\\\ix biology em.pdf', 'total_pages': 194, 'page': 21, 'page_label': '22'}, page_content='Plasma membrane is a selectively permeable membrane.\\nIn plant cells, a cell wall composed of cellulose is located outside the cell\\nmembrane.\\nIn prokaryotes nuclear membrane is absent.\\nThe endoplasmic reticulum functions both as passageway for intra cellular transport\\nand manufacturing surface.\\nLysosomes are membrane bound sacs filled with digestive enzymes.\\nThe Golgi apparatus consists of stacks of membranes bound vesicles that function\\nin the storage.'),\n",
       " Document(id='8e612a69-12e7-4114-a1bf-7897c55e3049', metadata={'producer': '3-Heights(TM) PDF Optimization Shell 4.8.25.2 (http://www.pdf-tools.com)', 'creator': 'PageMaker 7.0', 'creationdate': '2017-01-18T18:28:08+05:30', 'author': 'Admin', 'title': 'IX Bio_Title Free.pmd', 'moddate': '2019-05-28T07:37:38+00:00', 'source': '..\\\\data\\\\ix biology em.pdf', 'total_pages': 194, 'page': 16, 'page_label': '17'}, page_content='Rough Endoplasmic Reticulum\\nSmooth\\nEndoplasmic\\nReticulum\\nRibosomes\\nSCERT\\nThis region takes up very little stain. It is\\nSCERT\\nThis region takes up very little stain. It is\\ncalled the cytoplasm. The cytoplasm is the\\nSCERT\\ncalled the cytoplasm. The cytoplasm is the\\nfluid content bounded by the plasma\\nSCERT\\nfluid content bounded by the plasma\\nmembrane. It also contains many\\nSCERT\\nmembrane. It also contains many\\nspecialised cell organelles.  Each of these\\nSCERT'),\n",
       " Document(id='c53f6c14-043b-4ba2-9df4-823a563b0030', metadata={'producer': '3-Heights(TM) PDF Optimization Shell 4.8.25.2 (http://www.pdf-tools.com)', 'creator': 'PageMaker 7.0', 'creationdate': '2017-01-18T18:28:08+05:30', 'author': 'Admin', 'title': 'IX Bio_Title Free.pmd', 'moddate': '2019-05-28T07:37:38+00:00', 'source': '..\\\\data\\\\ix biology em.pdf', 'total_pages': 194, 'page': 17, 'page_label': '18'}, page_content='used to regenerate or repair the membrane.\\nThe number of golgi bodies varies from\\ncell to cell. Their number is particularly\\nlarge in those cells that secrete hormones\\nand enzymes.\\nLysosome\\nOne of the facts that troubled the\\nscientists for a long time was that, certain\\nenzymes present in the cell have the ability\\nFig-7 Golgi Complex\\nSCERT\\non need, using the ER. Some of these proteins\\nSCERT\\non need, using the ER. Some of these proteins\\nand lipids help in building the cell\\nSCERT'),\n",
       " Document(id='9549c1cb-2b4a-4a12-9130-8f044a8c7324', metadata={'producer': '3-Heights(TM) PDF Optimization Shell 4.8.25.2 (http://www.pdf-tools.com)', 'creator': 'PageMaker 7.0', 'creationdate': '2017-01-18T18:28:08+05:30', 'author': 'Admin', 'title': 'IX Bio_Title Free.pmd', 'moddate': '2019-05-28T07:37:38+00:00', 'source': '..\\\\data\\\\ix biology em.pdf', 'total_pages': 194, 'page': 21, 'page_label': '22'}, page_content='Plasma membrane is a selectively permeable membrane.\\nIn plant cells, a cell wall composed of cellulose is located outside the cell\\nTELANGANA\\nIn plant cells, a cell wall composed of cellulose is located outside the cell\\nIn prokaryotes nuclear membrane is absent.\\nTELANGANA\\nIn prokaryotes nuclear membrane is absent.\\nThe endoplasmic reticulum functions both as passageway for intra cellular transport\\nTELANGANA\\nThe endoplasmic reticulum functions both as passageway for intra cellular transport')]"
      ]
     },
     "execution_count": 26,
     "metadata": {},
     "output_type": "execute_result"
    }
   ],
   "source": [
    "docc"
   ]
  },
  {
   "cell_type": "code",
   "execution_count": 120,
   "id": "118b6216",
   "metadata": {},
   "outputs": [],
   "source": [
    "from langchain_groq import ChatGroq \n",
    "import os \n",
    "GROQ_API_KEY=os.getenv('GROQ_API_KEY')\n",
    "\n",
    "llm=ChatGroq(api_key=GROQ_API_KEY,model='llama-3.3-70b-versatile')"
   ]
  },
  {
   "cell_type": "code",
   "execution_count": 14,
   "id": "8500889f",
   "metadata": {},
   "outputs": [],
   "source": [
    "from langchain_community.retrievers import BM25Retriever\n",
    "from langchain.retrievers import EnsembleRetriever\n",
    "\n",
    "retriever_dense = vectorstore.as_retriever(search_kwargs={\"k\": 10})  \n",
    "bm25_retriever = BM25Retriever.from_documents(chunks)\n",
    "\n",
    "hybrid_retriever = EnsembleRetriever(retrievers=[retriever_dense, bm25_retriever], weights=[0.5, 0.5])\n"
   ]
  },
  {
   "cell_type": "code",
   "execution_count": 121,
   "id": "8de45005",
   "metadata": {},
   "outputs": [],
   "source": [
    "from langchain.prompts import ChatPromptTemplate\n",
    "\n",
    "prompt = ChatPromptTemplate.from_messages([\n",
    "    (\"system\", \"You are a helpful and knowledgeable biology tutor. Answer clearly and accurately.if the query is out of sylabus just give Out of syllabus\"),\n",
    "    (\"human\", \"Context:\\n{context}\\n\\nQuestion: {question}\")\n",
    "])\n"
   ]
  },
  {
   "cell_type": "code",
   "execution_count": 122,
   "id": "6dd160b9",
   "metadata": {},
   "outputs": [],
   "source": [
    "from langchain.memory import ConversationBufferWindowMemory\n",
    "\n",
    "memory = ConversationBufferWindowMemory(\n",
    "    memory_key=\"chat_history\",\n",
    "    return_messages=True,\n",
    "    k=3\n",
    ")\n"
   ]
  },
  {
   "cell_type": "code",
   "execution_count": 125,
   "id": "981d288c",
   "metadata": {},
   "outputs": [
    {
     "name": "stderr",
     "output_type": "stream",
     "text": [
      "C:\\Users\\saipr\\AppData\\Local\\Temp\\ipykernel_24540\\3350441412.py:15: DeprecationWarning: Retrievers must implement abstract `_get_relevant_documents` method instead of `get_relevant_documents`\n",
      "  class RerankRetriever(BaseRetriever, BaseModel):\n"
     ]
    },
    {
     "name": "stdout",
     "output_type": "stream",
     "text": [
      "The forebrain, also known as the prosencephalon, is the most advanced part of the brain and is responsible for a wide range of higher-order functions. The components of the forebrain include:\n",
      "\n",
      "1. Cerebrum: The cerebrum is the largest part of the brain and is divided into two hemispheres: the left hemisphere and the right hemisphere. The cerebrum is responsible for:\n",
      "\t* Controlling movement and sensation\n",
      "\t* Processing sensory information\n",
      "\t* Regulating emotions and speech\n",
      "\t* Interpreting sensations and responding to cold, heat, pain, and pressure\n",
      "2. Diencephalon: The diencephalon is a rhomboidal-shaped lobe that lies between the cerebrum and the midbrain. It is divided into two main structures:\n",
      "\t* Thalamus: The thalamus acts as a relay center for sensory impulses, such as pain, temperature, and light. It also plays a role in regulating consciousness and sleep.\n",
      "\t* Hypothalamus: The hypothalamus is the master control center of the endocrine system and regulates a wide range of functions, including:\n",
      "\t\t+ Water balance\n",
      "\t\t+ Blood pressure\n",
      "\t\t+ Body temperature\n",
      "\t\t+ Sleep and hunger\n",
      "\t\t+ Emotions, such as anger\n",
      "\n",
      "The functions of the forebrain include:\n",
      "\n",
      "* Controlling movement and sensation\n",
      "* Processing sensory information\n",
      "* Regulating emotions and speech\n",
      "* Interpreting sensations and responding to external stimuli\n",
      "* Regulating bodily functions, such as hunger, thirst, and body temperature\n",
      "* Controlling the endocrine system through the hypothalamus\n",
      "\n",
      "Overall, the forebrain is responsible for many of the higher-order functions that allow us to interact with the world around us, including movement, sensation, emotion, and cognition.\n"
     ]
    }
   ],
   "source": [
    "from typing import List\n",
    "from langchain.schema import Document, BaseRetriever \n",
    "from sentence_transformers import CrossEncoder\n",
    "from pydantic import BaseModel  \n",
    "from langchain.chains import ConversationalRetrievalChain\n",
    "reranker = CrossEncoder(\"cross-encoder/ms-marco-MiniLM-L-6-v2\")\n",
    "\n",
    "def rerank_documents(query: str, retrieved_docs: List[Document]) -> List[Document]:\n",
    "    docs_texts = [doc.page_content for doc in retrieved_docs]\n",
    "    pairs = [(query, doc_text) for doc_text in docs_texts]\n",
    "    scores = reranker.predict(pairs)\n",
    "    sorted_docs = [doc for _, doc in sorted(zip(scores, retrieved_docs), key=lambda x: x[0], reverse=True)]\n",
    "    return sorted_docs\n",
    "\n",
    "class RerankRetriever(BaseRetriever, BaseModel): \n",
    "    base_retriever: BaseRetriever  \n",
    "    top_k: int = 5  \n",
    "\n",
    "    def get_relevant_documents(self, query: str) -> List[Document]:\n",
    "        initial_docs = self.base_retriever.get_relevant_documents(query)\n",
    "        reranked_docs = rerank_documents(query, initial_docs)\n",
    "        return reranked_docs[:self.top_k]  \n",
    "\n",
    "base_retriever = vectorstore.as_retriever(search_kwargs={\"k\": 10})  \n",
    "\n",
    "custom_retriever = RerankRetriever(base_retriever=base_retriever, top_k=5)\n",
    "\n",
    "qa_chain = ConversationalRetrievalChain.from_llm(\n",
    "    llm=llm,\n",
    "    retriever=custom_retriever,\n",
    "    memory=memory,\n",
    "    combine_docs_chain_kwargs={\"prompt\": prompt}\n",
    ")\n",
    "query=\"Explain first part in detail\"\n",
    "result = qa_chain({\"question\": query})\n",
    "print(result[\"answer\"])\n"
   ]
  },
  {
   "cell_type": "code",
   "execution_count": 126,
   "id": "2d9fafc9",
   "metadata": {},
   "outputs": [
    {
     "data": {
      "text/plain": [
       "[HumanMessage(content='Explain the parts of human brain and their functions', additional_kwargs={}, response_metadata={}),\n",
       " AIMessage(content='The human brain can be divided into three main parts: Forebrain, Midbrain, and Hindbrain.\\n\\n1. **Forebrain**: It consists of two main parts - Cerebrum and Olfactory lobes.\\n   - **Cerebrum**: It is the largest part of the brain and is divided into two cerebral hemispheres. The cerebrum is responsible for:\\n     * Controlling voluntary movements\\n     * Processing sensory information\\n     * Managing higher-level cognitive functions such as thought, emotion, and memory\\n   - **Olfactory lobes**: These are responsible for processing sensory information related to smell.\\n\\n2. **Midbrain**: It acts as a relay center for auditory and visual information. It also plays a role in regulating body temperature and alertness.\\n\\n3. **Hindbrain**: It consists of three main parts - Cerebellum, Pons, and Medulla oblongata.\\n   - **Cerebellum**: It is responsible for:\\n     * Maintaining posture and balance\\n     * Coordinating voluntary movements\\n     * Regulating muscle tone\\n   - **Medulla oblongata**: It is responsible for:\\n     * Relaying motor impulses from the cerebral cortex to the spinal cord\\n     * Relaying sensory impulses from the spinal cord to the thalamus\\n     * Controlling reflexes for sight and hearing\\n     * Regulating automatic functions such as breathing, heart rate, and blood pressure\\n\\nThe brain also has other structures that connect the different parts, such as the corpus callosum, which connects the two cerebral hemispheres, allowing them to communicate with each other. Overall, the different parts of the brain work together to control various aspects of human function, from movement and sensation to cognition and emotion.', additional_kwargs={}, response_metadata={})]"
      ]
     },
     "execution_count": 126,
     "metadata": {},
     "output_type": "execute_result"
    }
   ],
   "source": [
    "result['chat_history']"
   ]
  },
  {
   "cell_type": "code",
   "execution_count": 102,
   "id": "aa183d94",
   "metadata": {},
   "outputs": [
    {
     "name": "stderr",
     "output_type": "stream",
     "text": [
      "C:\\Users\\saipr\\AppData\\Local\\Temp\\ipykernel_24540\\1468193745.py:18: DeprecationWarning: Retrievers must implement abstract `_get_relevant_documents` method instead of `get_relevant_documents`\n",
      "  class RerankRetriever(VectorStoreRetriever):\n"
     ]
    }
   ],
   "source": [
    "from typing import List\n",
    "from langchain.schema import Document\n",
    "from langchain.vectorstores.base import VectorStoreRetriever\n",
    "from sentence_transformers import CrossEncoder\n",
    "\n",
    "# Load Cross-Encoder\n",
    "reranker = CrossEncoder(\"cross-encoder/ms-marco-MiniLM-L-6-v2\")\n",
    "\n",
    "# Reranking function\n",
    "def rerank_documents(query: str, retrieved_docs: List[Document]) -> List[Document]:\n",
    "    docs_texts = [doc.page_content for doc in retrieved_docs]\n",
    "    pairs = [(query, doc_text) for doc_text in docs_texts]\n",
    "    scores = reranker.predict(pairs)\n",
    "    sorted_docs = [doc for _, doc in sorted(zip(scores, retrieved_docs), key=lambda x: x[0], reverse=True)]\n",
    "    return sorted_docs\n",
    "\n",
    "# Custom Retriever class\n",
    "class RerankRetriever(VectorStoreRetriever):\n",
    "    def __init__(self, base_retriever: VectorStoreRetriever, top_k: int = 5):\n",
    "        self.base_retriever = base_retriever\n",
    "        self.top_k = top_k\n",
    "\n",
    "    def get_relevant_documents(self, query: str) -> List[Document]:\n",
    "        # First use the base retriever to get top_k docs\n",
    "        initial_docs = self.base_retriever.get_relevant_documents(query)\n",
    "        # Then rerank them using the Cross-Encoder\n",
    "        reranked_docs = rerank_documents(query, initial_docs)\n",
    "        return reranked_docs\n"
   ]
  },
  {
   "cell_type": "code",
   "execution_count": 103,
   "id": "2691434e",
   "metadata": {},
   "outputs": [
    {
     "ename": "ValueError",
     "evalue": "\"RerankRetriever\" object has no field \"base_retriever\"",
     "output_type": "error",
     "traceback": [
      "\u001b[1;31m---------------------------------------------------------------------------\u001b[0m",
      "\u001b[1;31mValueError\u001b[0m                                Traceback (most recent call last)",
      "Cell \u001b[1;32mIn[103], line 8\u001b[0m\n\u001b[0;32m      5\u001b[0m base_retriever \u001b[38;5;241m=\u001b[39m vectorstore\u001b[38;5;241m.\u001b[39mas_retriever(search_kwargs\u001b[38;5;241m=\u001b[39m{\u001b[38;5;124m\"\u001b[39m\u001b[38;5;124mk\u001b[39m\u001b[38;5;124m\"\u001b[39m: \u001b[38;5;241m10\u001b[39m})  \u001b[38;5;66;03m# base docs before rerank\u001b[39;00m\n\u001b[0;32m      7\u001b[0m \u001b[38;5;66;03m# Wrap with the reranker\u001b[39;00m\n\u001b[1;32m----> 8\u001b[0m custom_retriever \u001b[38;5;241m=\u001b[39m \u001b[43mRerankRetriever\u001b[49m\u001b[43m(\u001b[49m\u001b[43mbase_retriever\u001b[49m\u001b[38;5;241;43m=\u001b[39;49m\u001b[43mbase_retriever\u001b[49m\u001b[43m,\u001b[49m\u001b[43m \u001b[49m\u001b[43mtop_k\u001b[49m\u001b[38;5;241;43m=\u001b[39;49m\u001b[38;5;241;43m5\u001b[39;49m\u001b[43m)\u001b[49m\n\u001b[0;32m     10\u001b[0m \u001b[38;5;66;03m# Plug into the QA chain\u001b[39;00m\n\u001b[0;32m     11\u001b[0m qa_chain \u001b[38;5;241m=\u001b[39m ConversationalRetrievalChain\u001b[38;5;241m.\u001b[39mfrom_llm(\n\u001b[0;32m     12\u001b[0m     llm\u001b[38;5;241m=\u001b[39mllm,\n\u001b[0;32m     13\u001b[0m     retriever\u001b[38;5;241m=\u001b[39mcustom_retriever,\n\u001b[0;32m     14\u001b[0m     memory\u001b[38;5;241m=\u001b[39mmemory,\n\u001b[0;32m     15\u001b[0m     combine_docs_chain_kwargs\u001b[38;5;241m=\u001b[39m{\u001b[38;5;124m\"\u001b[39m\u001b[38;5;124mprompt\u001b[39m\u001b[38;5;124m\"\u001b[39m: prompt}\n\u001b[0;32m     16\u001b[0m )\n",
      "Cell \u001b[1;32mIn[102], line 20\u001b[0m, in \u001b[0;36mRerankRetriever.__init__\u001b[1;34m(self, base_retriever, top_k)\u001b[0m\n\u001b[0;32m     19\u001b[0m \u001b[38;5;28;01mdef\u001b[39;00m\u001b[38;5;250m \u001b[39m\u001b[38;5;21m__init__\u001b[39m(\u001b[38;5;28mself\u001b[39m, base_retriever: VectorStoreRetriever, top_k: \u001b[38;5;28mint\u001b[39m \u001b[38;5;241m=\u001b[39m \u001b[38;5;241m5\u001b[39m):\n\u001b[1;32m---> 20\u001b[0m     \u001b[38;5;28;43mself\u001b[39;49m\u001b[38;5;241;43m.\u001b[39;49m\u001b[43mbase_retriever\u001b[49m \u001b[38;5;241m=\u001b[39m base_retriever\n\u001b[0;32m     21\u001b[0m     \u001b[38;5;28mself\u001b[39m\u001b[38;5;241m.\u001b[39mtop_k \u001b[38;5;241m=\u001b[39m top_k\n",
      "File \u001b[1;32mc:\\Users\\saipr\\BioRag\\venv\\lib\\site-packages\\pydantic\\main.py:1000\u001b[0m, in \u001b[0;36mBaseModel.__setattr__\u001b[1;34m(self, name, value)\u001b[0m\n\u001b[0;32m    998\u001b[0m     setattr_handler(\u001b[38;5;28mself\u001b[39m, name, value)\n\u001b[0;32m    999\u001b[0m \u001b[38;5;66;03m# if None is returned from _setattr_handler, the attribute was set directly\u001b[39;00m\n\u001b[1;32m-> 1000\u001b[0m \u001b[38;5;28;01melif\u001b[39;00m (setattr_handler \u001b[38;5;241m:=\u001b[39m \u001b[38;5;28;43mself\u001b[39;49m\u001b[38;5;241;43m.\u001b[39;49m\u001b[43m_setattr_handler\u001b[49m\u001b[43m(\u001b[49m\u001b[43mname\u001b[49m\u001b[43m,\u001b[49m\u001b[43m \u001b[49m\u001b[43mvalue\u001b[49m\u001b[43m)\u001b[49m) \u001b[38;5;129;01mis\u001b[39;00m \u001b[38;5;129;01mnot\u001b[39;00m \u001b[38;5;28;01mNone\u001b[39;00m:\n\u001b[0;32m   1001\u001b[0m     setattr_handler(\u001b[38;5;28mself\u001b[39m, name, value)  \u001b[38;5;66;03m# call here to not memo on possibly unknown fields\u001b[39;00m\n\u001b[0;32m   1002\u001b[0m     \u001b[38;5;28mself\u001b[39m\u001b[38;5;241m.\u001b[39m__pydantic_setattr_handlers__[name] \u001b[38;5;241m=\u001b[39m setattr_handler\n",
      "File \u001b[1;32mc:\\Users\\saipr\\BioRag\\venv\\lib\\site-packages\\pydantic\\main.py:1047\u001b[0m, in \u001b[0;36mBaseModel._setattr_handler\u001b[1;34m(self, name, value)\u001b[0m\n\u001b[0;32m   1044\u001b[0m \u001b[38;5;28;01melif\u001b[39;00m name \u001b[38;5;129;01mnot\u001b[39;00m \u001b[38;5;129;01min\u001b[39;00m \u001b[38;5;28mcls\u001b[39m\u001b[38;5;241m.\u001b[39m__pydantic_fields__:\n\u001b[0;32m   1045\u001b[0m     \u001b[38;5;28;01mif\u001b[39;00m \u001b[38;5;28mcls\u001b[39m\u001b[38;5;241m.\u001b[39mmodel_config\u001b[38;5;241m.\u001b[39mget(\u001b[38;5;124m'\u001b[39m\u001b[38;5;124mextra\u001b[39m\u001b[38;5;124m'\u001b[39m) \u001b[38;5;241m!=\u001b[39m \u001b[38;5;124m'\u001b[39m\u001b[38;5;124mallow\u001b[39m\u001b[38;5;124m'\u001b[39m:\n\u001b[0;32m   1046\u001b[0m         \u001b[38;5;66;03m# TODO - matching error\u001b[39;00m\n\u001b[1;32m-> 1047\u001b[0m         \u001b[38;5;28;01mraise\u001b[39;00m \u001b[38;5;167;01mValueError\u001b[39;00m(\u001b[38;5;124mf\u001b[39m\u001b[38;5;124m'\u001b[39m\u001b[38;5;124m\"\u001b[39m\u001b[38;5;132;01m{\u001b[39;00m\u001b[38;5;28mcls\u001b[39m\u001b[38;5;241m.\u001b[39m\u001b[38;5;18m__name__\u001b[39m\u001b[38;5;132;01m}\u001b[39;00m\u001b[38;5;124m\"\u001b[39m\u001b[38;5;124m object has no field \u001b[39m\u001b[38;5;124m\"\u001b[39m\u001b[38;5;132;01m{\u001b[39;00mname\u001b[38;5;132;01m}\u001b[39;00m\u001b[38;5;124m\"\u001b[39m\u001b[38;5;124m'\u001b[39m)\n\u001b[0;32m   1048\u001b[0m     \u001b[38;5;28;01melif\u001b[39;00m attr \u001b[38;5;129;01mis\u001b[39;00m \u001b[38;5;28;01mNone\u001b[39;00m:\n\u001b[0;32m   1049\u001b[0m         \u001b[38;5;66;03m# attribute does not exist, so put it in extra\u001b[39;00m\n\u001b[0;32m   1050\u001b[0m         \u001b[38;5;28mself\u001b[39m\u001b[38;5;241m.\u001b[39m__pydantic_extra__[name] \u001b[38;5;241m=\u001b[39m value\n",
      "\u001b[1;31mValueError\u001b[0m: \"RerankRetriever\" object has no field \"base_retriever\""
     ]
    }
   ],
   "source": [
    "from langchain.chains import ConversationalRetrievalChain\n",
    "from langchain.memory import ConversationBufferWindowMemory\n",
    "\n",
    "# Create the base retriever from your vector store\n",
    "base_retriever = vectorstore.as_retriever(search_kwargs={\"k\": 10})  # base docs before rerank\n",
    "\n",
    "# Wrap with the reranker\n",
    "custom_retriever = RerankRetriever(base_retriever=base_retriever, top_k=5)\n",
    "\n",
    "# Plug into the QA chain\n",
    "qa_chain = ConversationalRetrievalChain.from_llm(\n",
    "    llm=llm,\n",
    "    retriever=custom_retriever,\n",
    "    memory=memory,\n",
    "    combine_docs_chain_kwargs={\"prompt\": prompt}\n",
    ")\n",
    "\n"
   ]
  },
  {
   "cell_type": "code",
   "execution_count": 101,
   "id": "9fd4bb96",
   "metadata": {},
   "outputs": [
    {
     "ename": "AttributeError",
     "evalue": "'RerankRetriever' object has no attribute 'tags'",
     "output_type": "error",
     "traceback": [
      "\u001b[1;31m---------------------------------------------------------------------------\u001b[0m",
      "\u001b[1;31mAttributeError\u001b[0m                            Traceback (most recent call last)",
      "Cell \u001b[1;32mIn[101], line 3\u001b[0m\n\u001b[0;32m      1\u001b[0m \u001b[38;5;66;03m# Query as normal\u001b[39;00m\n\u001b[0;32m      2\u001b[0m query\u001b[38;5;241m=\u001b[39m\u001b[38;5;124m\"\u001b[39m\u001b[38;5;124mExplain the parts of human brain and their functions\u001b[39m\u001b[38;5;124m\"\u001b[39m\n\u001b[1;32m----> 3\u001b[0m result \u001b[38;5;241m=\u001b[39m \u001b[43mqa_chain\u001b[49m\u001b[43m(\u001b[49m\u001b[43m{\u001b[49m\u001b[38;5;124;43m\"\u001b[39;49m\u001b[38;5;124;43mquestion\u001b[39;49m\u001b[38;5;124;43m\"\u001b[39;49m\u001b[43m:\u001b[49m\u001b[43m \u001b[49m\u001b[43mquery\u001b[49m\u001b[43m}\u001b[49m\u001b[43m)\u001b[49m\n\u001b[0;32m      4\u001b[0m \u001b[38;5;28mprint\u001b[39m(result[\u001b[38;5;124m\"\u001b[39m\u001b[38;5;124manswer\u001b[39m\u001b[38;5;124m\"\u001b[39m])\n",
      "File \u001b[1;32mc:\\Users\\saipr\\BioRag\\venv\\lib\\site-packages\\langchain_core\\_api\\deprecation.py:191\u001b[0m, in \u001b[0;36mdeprecated.<locals>.deprecate.<locals>.warning_emitting_wrapper\u001b[1;34m(*args, **kwargs)\u001b[0m\n\u001b[0;32m    189\u001b[0m     warned \u001b[38;5;241m=\u001b[39m \u001b[38;5;28;01mTrue\u001b[39;00m\n\u001b[0;32m    190\u001b[0m     emit_warning()\n\u001b[1;32m--> 191\u001b[0m \u001b[38;5;28;01mreturn\u001b[39;00m wrapped(\u001b[38;5;241m*\u001b[39margs, \u001b[38;5;241m*\u001b[39m\u001b[38;5;241m*\u001b[39mkwargs)\n",
      "File \u001b[1;32mc:\\Users\\saipr\\BioRag\\venv\\lib\\site-packages\\langchain\\chains\\base.py:389\u001b[0m, in \u001b[0;36mChain.__call__\u001b[1;34m(self, inputs, return_only_outputs, callbacks, tags, metadata, run_name, include_run_info)\u001b[0m\n\u001b[0;32m    357\u001b[0m \u001b[38;5;250m\u001b[39m\u001b[38;5;124;03m\"\"\"Execute the chain.\u001b[39;00m\n\u001b[0;32m    358\u001b[0m \n\u001b[0;32m    359\u001b[0m \u001b[38;5;124;03mArgs:\u001b[39;00m\n\u001b[1;32m   (...)\u001b[0m\n\u001b[0;32m    380\u001b[0m \u001b[38;5;124;03m        `Chain.output_keys`.\u001b[39;00m\n\u001b[0;32m    381\u001b[0m \u001b[38;5;124;03m\"\"\"\u001b[39;00m\n\u001b[0;32m    382\u001b[0m config \u001b[38;5;241m=\u001b[39m {\n\u001b[0;32m    383\u001b[0m     \u001b[38;5;124m\"\u001b[39m\u001b[38;5;124mcallbacks\u001b[39m\u001b[38;5;124m\"\u001b[39m: callbacks,\n\u001b[0;32m    384\u001b[0m     \u001b[38;5;124m\"\u001b[39m\u001b[38;5;124mtags\u001b[39m\u001b[38;5;124m\"\u001b[39m: tags,\n\u001b[0;32m    385\u001b[0m     \u001b[38;5;124m\"\u001b[39m\u001b[38;5;124mmetadata\u001b[39m\u001b[38;5;124m\"\u001b[39m: metadata,\n\u001b[0;32m    386\u001b[0m     \u001b[38;5;124m\"\u001b[39m\u001b[38;5;124mrun_name\u001b[39m\u001b[38;5;124m\"\u001b[39m: run_name,\n\u001b[0;32m    387\u001b[0m }\n\u001b[1;32m--> 389\u001b[0m \u001b[38;5;28;01mreturn\u001b[39;00m \u001b[38;5;28;43mself\u001b[39;49m\u001b[38;5;241;43m.\u001b[39;49m\u001b[43minvoke\u001b[49m\u001b[43m(\u001b[49m\n\u001b[0;32m    390\u001b[0m \u001b[43m    \u001b[49m\u001b[43minputs\u001b[49m\u001b[43m,\u001b[49m\n\u001b[0;32m    391\u001b[0m \u001b[43m    \u001b[49m\u001b[43mcast\u001b[49m\u001b[43m(\u001b[49m\u001b[43mRunnableConfig\u001b[49m\u001b[43m,\u001b[49m\u001b[43m \u001b[49m\u001b[43m{\u001b[49m\u001b[43mk\u001b[49m\u001b[43m:\u001b[49m\u001b[43m \u001b[49m\u001b[43mv\u001b[49m\u001b[43m \u001b[49m\u001b[38;5;28;43;01mfor\u001b[39;49;00m\u001b[43m \u001b[49m\u001b[43mk\u001b[49m\u001b[43m,\u001b[49m\u001b[43m \u001b[49m\u001b[43mv\u001b[49m\u001b[43m \u001b[49m\u001b[38;5;129;43;01min\u001b[39;49;00m\u001b[43m \u001b[49m\u001b[43mconfig\u001b[49m\u001b[38;5;241;43m.\u001b[39;49m\u001b[43mitems\u001b[49m\u001b[43m(\u001b[49m\u001b[43m)\u001b[49m\u001b[43m \u001b[49m\u001b[38;5;28;43;01mif\u001b[39;49;00m\u001b[43m \u001b[49m\u001b[43mv\u001b[49m\u001b[43m \u001b[49m\u001b[38;5;129;43;01mis\u001b[39;49;00m\u001b[43m \u001b[49m\u001b[38;5;129;43;01mnot\u001b[39;49;00m\u001b[43m \u001b[49m\u001b[38;5;28;43;01mNone\u001b[39;49;00m\u001b[43m}\u001b[49m\u001b[43m)\u001b[49m\u001b[43m,\u001b[49m\n\u001b[0;32m    392\u001b[0m \u001b[43m    \u001b[49m\u001b[43mreturn_only_outputs\u001b[49m\u001b[38;5;241;43m=\u001b[39;49m\u001b[43mreturn_only_outputs\u001b[49m\u001b[43m,\u001b[49m\n\u001b[0;32m    393\u001b[0m \u001b[43m    \u001b[49m\u001b[43minclude_run_info\u001b[49m\u001b[38;5;241;43m=\u001b[39;49m\u001b[43minclude_run_info\u001b[49m\u001b[43m,\u001b[49m\n\u001b[0;32m    394\u001b[0m \u001b[43m\u001b[49m\u001b[43m)\u001b[49m\n",
      "File \u001b[1;32mc:\\Users\\saipr\\BioRag\\venv\\lib\\site-packages\\langchain\\chains\\base.py:170\u001b[0m, in \u001b[0;36mChain.invoke\u001b[1;34m(self, input, config, **kwargs)\u001b[0m\n\u001b[0;32m    168\u001b[0m \u001b[38;5;28;01mexcept\u001b[39;00m \u001b[38;5;167;01mBaseException\u001b[39;00m \u001b[38;5;28;01mas\u001b[39;00m e:\n\u001b[0;32m    169\u001b[0m     run_manager\u001b[38;5;241m.\u001b[39mon_chain_error(e)\n\u001b[1;32m--> 170\u001b[0m     \u001b[38;5;28;01mraise\u001b[39;00m e\n\u001b[0;32m    171\u001b[0m run_manager\u001b[38;5;241m.\u001b[39mon_chain_end(outputs)\n\u001b[0;32m    173\u001b[0m \u001b[38;5;28;01mif\u001b[39;00m include_run_info:\n",
      "File \u001b[1;32mc:\\Users\\saipr\\BioRag\\venv\\lib\\site-packages\\langchain\\chains\\base.py:160\u001b[0m, in \u001b[0;36mChain.invoke\u001b[1;34m(self, input, config, **kwargs)\u001b[0m\n\u001b[0;32m    157\u001b[0m \u001b[38;5;28;01mtry\u001b[39;00m:\n\u001b[0;32m    158\u001b[0m     \u001b[38;5;28mself\u001b[39m\u001b[38;5;241m.\u001b[39m_validate_inputs(inputs)\n\u001b[0;32m    159\u001b[0m     outputs \u001b[38;5;241m=\u001b[39m (\n\u001b[1;32m--> 160\u001b[0m         \u001b[38;5;28;43mself\u001b[39;49m\u001b[38;5;241;43m.\u001b[39;49m\u001b[43m_call\u001b[49m\u001b[43m(\u001b[49m\u001b[43minputs\u001b[49m\u001b[43m,\u001b[49m\u001b[43m \u001b[49m\u001b[43mrun_manager\u001b[49m\u001b[38;5;241;43m=\u001b[39;49m\u001b[43mrun_manager\u001b[49m\u001b[43m)\u001b[49m\n\u001b[0;32m    161\u001b[0m         \u001b[38;5;28;01mif\u001b[39;00m new_arg_supported\n\u001b[0;32m    162\u001b[0m         \u001b[38;5;28;01melse\u001b[39;00m \u001b[38;5;28mself\u001b[39m\u001b[38;5;241m.\u001b[39m_call(inputs)\n\u001b[0;32m    163\u001b[0m     )\n\u001b[0;32m    165\u001b[0m     final_outputs: Dict[\u001b[38;5;28mstr\u001b[39m, Any] \u001b[38;5;241m=\u001b[39m \u001b[38;5;28mself\u001b[39m\u001b[38;5;241m.\u001b[39mprep_outputs(\n\u001b[0;32m    166\u001b[0m         inputs, outputs, return_only_outputs\n\u001b[0;32m    167\u001b[0m     )\n\u001b[0;32m    168\u001b[0m \u001b[38;5;28;01mexcept\u001b[39;00m \u001b[38;5;167;01mBaseException\u001b[39;00m \u001b[38;5;28;01mas\u001b[39;00m e:\n",
      "File \u001b[1;32mc:\\Users\\saipr\\BioRag\\venv\\lib\\site-packages\\langchain\\chains\\conversational_retrieval\\base.py:159\u001b[0m, in \u001b[0;36mBaseConversationalRetrievalChain._call\u001b[1;34m(self, inputs, run_manager)\u001b[0m\n\u001b[0;32m    155\u001b[0m accepts_run_manager \u001b[38;5;241m=\u001b[39m (\n\u001b[0;32m    156\u001b[0m     \u001b[38;5;124m\"\u001b[39m\u001b[38;5;124mrun_manager\u001b[39m\u001b[38;5;124m\"\u001b[39m \u001b[38;5;129;01min\u001b[39;00m inspect\u001b[38;5;241m.\u001b[39msignature(\u001b[38;5;28mself\u001b[39m\u001b[38;5;241m.\u001b[39m_get_docs)\u001b[38;5;241m.\u001b[39mparameters\n\u001b[0;32m    157\u001b[0m )\n\u001b[0;32m    158\u001b[0m \u001b[38;5;28;01mif\u001b[39;00m accepts_run_manager:\n\u001b[1;32m--> 159\u001b[0m     docs \u001b[38;5;241m=\u001b[39m \u001b[38;5;28;43mself\u001b[39;49m\u001b[38;5;241;43m.\u001b[39;49m\u001b[43m_get_docs\u001b[49m\u001b[43m(\u001b[49m\u001b[43mnew_question\u001b[49m\u001b[43m,\u001b[49m\u001b[43m \u001b[49m\u001b[43minputs\u001b[49m\u001b[43m,\u001b[49m\u001b[43m \u001b[49m\u001b[43mrun_manager\u001b[49m\u001b[38;5;241;43m=\u001b[39;49m\u001b[43m_run_manager\u001b[49m\u001b[43m)\u001b[49m\n\u001b[0;32m    160\u001b[0m \u001b[38;5;28;01melse\u001b[39;00m:\n\u001b[0;32m    161\u001b[0m     docs \u001b[38;5;241m=\u001b[39m \u001b[38;5;28mself\u001b[39m\u001b[38;5;241m.\u001b[39m_get_docs(new_question, inputs)  \u001b[38;5;66;03m# type: ignore[call-arg]\u001b[39;00m\n",
      "File \u001b[1;32mc:\\Users\\saipr\\BioRag\\venv\\lib\\site-packages\\langchain\\chains\\conversational_retrieval\\base.py:396\u001b[0m, in \u001b[0;36mConversationalRetrievalChain._get_docs\u001b[1;34m(self, question, inputs, run_manager)\u001b[0m\n\u001b[0;32m    388\u001b[0m \u001b[38;5;28;01mdef\u001b[39;00m\u001b[38;5;250m \u001b[39m\u001b[38;5;21m_get_docs\u001b[39m(\n\u001b[0;32m    389\u001b[0m     \u001b[38;5;28mself\u001b[39m,\n\u001b[0;32m    390\u001b[0m     question: \u001b[38;5;28mstr\u001b[39m,\n\u001b[1;32m   (...)\u001b[0m\n\u001b[0;32m    393\u001b[0m     run_manager: CallbackManagerForChainRun,\n\u001b[0;32m    394\u001b[0m ) \u001b[38;5;241m-\u001b[39m\u001b[38;5;241m>\u001b[39m List[Document]:\n\u001b[0;32m    395\u001b[0m \u001b[38;5;250m    \u001b[39m\u001b[38;5;124;03m\"\"\"Get docs.\"\"\"\u001b[39;00m\n\u001b[1;32m--> 396\u001b[0m     docs \u001b[38;5;241m=\u001b[39m \u001b[38;5;28;43mself\u001b[39;49m\u001b[38;5;241;43m.\u001b[39;49m\u001b[43mretriever\u001b[49m\u001b[38;5;241;43m.\u001b[39;49m\u001b[43minvoke\u001b[49m\u001b[43m(\u001b[49m\n\u001b[0;32m    397\u001b[0m \u001b[43m        \u001b[49m\u001b[43mquestion\u001b[49m\u001b[43m,\u001b[49m\u001b[43m \u001b[49m\u001b[43mconfig\u001b[49m\u001b[38;5;241;43m=\u001b[39;49m\u001b[43m{\u001b[49m\u001b[38;5;124;43m\"\u001b[39;49m\u001b[38;5;124;43mcallbacks\u001b[39;49m\u001b[38;5;124;43m\"\u001b[39;49m\u001b[43m:\u001b[49m\u001b[43m \u001b[49m\u001b[43mrun_manager\u001b[49m\u001b[38;5;241;43m.\u001b[39;49m\u001b[43mget_child\u001b[49m\u001b[43m(\u001b[49m\u001b[43m)\u001b[49m\u001b[43m}\u001b[49m\n\u001b[0;32m    398\u001b[0m \u001b[43m    \u001b[49m\u001b[43m)\u001b[49m\n\u001b[0;32m    399\u001b[0m     \u001b[38;5;28;01mreturn\u001b[39;00m \u001b[38;5;28mself\u001b[39m\u001b[38;5;241m.\u001b[39m_reduce_tokens_below_limit(docs)\n",
      "File \u001b[1;32mc:\\Users\\saipr\\BioRag\\venv\\lib\\site-packages\\langchain_core\\retrievers.py:245\u001b[0m, in \u001b[0;36mBaseRetriever.invoke\u001b[1;34m(self, input, config, **kwargs)\u001b[0m\n\u001b[0;32m    235\u001b[0m config \u001b[38;5;241m=\u001b[39m ensure_config(config)\n\u001b[0;32m    236\u001b[0m inheritable_metadata \u001b[38;5;241m=\u001b[39m {\n\u001b[0;32m    237\u001b[0m     \u001b[38;5;241m*\u001b[39m\u001b[38;5;241m*\u001b[39m(config\u001b[38;5;241m.\u001b[39mget(\u001b[38;5;124m\"\u001b[39m\u001b[38;5;124mmetadata\u001b[39m\u001b[38;5;124m\"\u001b[39m) \u001b[38;5;129;01mor\u001b[39;00m {}),\n\u001b[0;32m    238\u001b[0m     \u001b[38;5;241m*\u001b[39m\u001b[38;5;241m*\u001b[39m\u001b[38;5;28mself\u001b[39m\u001b[38;5;241m.\u001b[39m_get_ls_params(\u001b[38;5;241m*\u001b[39m\u001b[38;5;241m*\u001b[39mkwargs),\n\u001b[0;32m    239\u001b[0m }\n\u001b[0;32m    240\u001b[0m callback_manager \u001b[38;5;241m=\u001b[39m CallbackManager\u001b[38;5;241m.\u001b[39mconfigure(\n\u001b[0;32m    241\u001b[0m     config\u001b[38;5;241m.\u001b[39mget(\u001b[38;5;124m\"\u001b[39m\u001b[38;5;124mcallbacks\u001b[39m\u001b[38;5;124m\"\u001b[39m),\n\u001b[0;32m    242\u001b[0m     \u001b[38;5;28;01mNone\u001b[39;00m,\n\u001b[0;32m    243\u001b[0m     verbose\u001b[38;5;241m=\u001b[39mkwargs\u001b[38;5;241m.\u001b[39mget(\u001b[38;5;124m\"\u001b[39m\u001b[38;5;124mverbose\u001b[39m\u001b[38;5;124m\"\u001b[39m, \u001b[38;5;28;01mFalse\u001b[39;00m),\n\u001b[0;32m    244\u001b[0m     inheritable_tags\u001b[38;5;241m=\u001b[39mconfig\u001b[38;5;241m.\u001b[39mget(\u001b[38;5;124m\"\u001b[39m\u001b[38;5;124mtags\u001b[39m\u001b[38;5;124m\"\u001b[39m),\n\u001b[1;32m--> 245\u001b[0m     local_tags\u001b[38;5;241m=\u001b[39m\u001b[38;5;28;43mself\u001b[39;49m\u001b[38;5;241;43m.\u001b[39;49m\u001b[43mtags\u001b[49m,\n\u001b[0;32m    246\u001b[0m     inheritable_metadata\u001b[38;5;241m=\u001b[39minheritable_metadata,\n\u001b[0;32m    247\u001b[0m     local_metadata\u001b[38;5;241m=\u001b[39m\u001b[38;5;28mself\u001b[39m\u001b[38;5;241m.\u001b[39mmetadata,\n\u001b[0;32m    248\u001b[0m )\n\u001b[0;32m    249\u001b[0m run_manager \u001b[38;5;241m=\u001b[39m callback_manager\u001b[38;5;241m.\u001b[39mon_retriever_start(\n\u001b[0;32m    250\u001b[0m     \u001b[38;5;28;01mNone\u001b[39;00m,\n\u001b[0;32m    251\u001b[0m     \u001b[38;5;28minput\u001b[39m,\n\u001b[0;32m    252\u001b[0m     name\u001b[38;5;241m=\u001b[39mconfig\u001b[38;5;241m.\u001b[39mget(\u001b[38;5;124m\"\u001b[39m\u001b[38;5;124mrun_name\u001b[39m\u001b[38;5;124m\"\u001b[39m) \u001b[38;5;129;01mor\u001b[39;00m \u001b[38;5;28mself\u001b[39m\u001b[38;5;241m.\u001b[39mget_name(),\n\u001b[0;32m    253\u001b[0m     run_id\u001b[38;5;241m=\u001b[39mkwargs\u001b[38;5;241m.\u001b[39mpop(\u001b[38;5;124m\"\u001b[39m\u001b[38;5;124mrun_id\u001b[39m\u001b[38;5;124m\"\u001b[39m, \u001b[38;5;28;01mNone\u001b[39;00m),\n\u001b[0;32m    254\u001b[0m )\n\u001b[0;32m    255\u001b[0m \u001b[38;5;28;01mtry\u001b[39;00m:\n",
      "File \u001b[1;32mc:\\Users\\saipr\\BioRag\\venv\\lib\\site-packages\\pydantic\\main.py:994\u001b[0m, in \u001b[0;36mBaseModel.__getattr__\u001b[1;34m(self, item)\u001b[0m\n\u001b[0;32m    991\u001b[0m     \u001b[38;5;28;01mreturn\u001b[39;00m \u001b[38;5;28msuper\u001b[39m()\u001b[38;5;241m.\u001b[39m\u001b[38;5;21m__getattribute__\u001b[39m(item)  \u001b[38;5;66;03m# Raises AttributeError if appropriate\u001b[39;00m\n\u001b[0;32m    992\u001b[0m \u001b[38;5;28;01melse\u001b[39;00m:\n\u001b[0;32m    993\u001b[0m     \u001b[38;5;66;03m# this is the current error\u001b[39;00m\n\u001b[1;32m--> 994\u001b[0m     \u001b[38;5;28;01mraise\u001b[39;00m \u001b[38;5;167;01mAttributeError\u001b[39;00m(\u001b[38;5;124mf\u001b[39m\u001b[38;5;124m'\u001b[39m\u001b[38;5;132;01m{\u001b[39;00m\u001b[38;5;28mtype\u001b[39m(\u001b[38;5;28mself\u001b[39m)\u001b[38;5;241m.\u001b[39m\u001b[38;5;18m__name__\u001b[39m\u001b[38;5;132;01m!r}\u001b[39;00m\u001b[38;5;124m object has no attribute \u001b[39m\u001b[38;5;132;01m{\u001b[39;00mitem\u001b[38;5;132;01m!r}\u001b[39;00m\u001b[38;5;124m'\u001b[39m)\n",
      "\u001b[1;31mAttributeError\u001b[0m: 'RerankRetriever' object has no attribute 'tags'"
     ]
    }
   ],
   "source": [
    "# Query as normal\n",
    "query=\"Explain the parts of human brain and their functions\"\n",
    "result = qa_chain({\"question\": query})\n",
    "print(result[\"answer\"])\n"
   ]
  },
  {
   "cell_type": "code",
   "execution_count": 50,
   "id": "790eac08",
   "metadata": {},
   "outputs": [
    {
     "name": "stdout",
     "output_type": "stream",
     "text": [
      "\n",
      "💡 AI Answer: The human brain can be divided into several parts, each with distinct functions. Here's an overview of the main parts of the brain and their functions:\n",
      "\n",
      "1. **Forebrain**: The forebrain is the most advanced part of the brain and is responsible for higher-level cognitive functions such as thought, emotion, and movement. It consists of two main parts:\n",
      "\t* **Cerebrum**: The cerebrum is the largest part of the brain and is divided into two hemispheres: the left hemisphere and the right hemisphere. The cerebrum is responsible for processing sensory information, controlling movement, and managing higher-level cognitive functions such as thought, emotion, and memory.\n",
      "\t* **Diencephalon**: The diencephalon is a small region that connects the cerebrum to the brainstem. It plays a role in relaying sensory information to the cerebrum and regulating body functions such as sleep, hunger, and thirst.\n",
      "2. **Midbrain**: The midbrain is a small region that connects the forebrain to the hindbrain. It plays a role in regulating body functions such as hearing, vision, and body temperature.\n",
      "3. **Hindbrain**: The hindbrain is responsible for controlling automatic functions such as breathing, heart rate, and blood pressure. It consists of two main parts:\n",
      "\t* **Cerebellum**: The cerebellum is located at the base of the brain and is responsible for coordinating movement, balance, and posture.\n",
      "\t* **Medulla oblongata**: The medulla oblongata is the lowest part of the brainstem and connects the brain to the spinal cord. It regulates automatic functions such as breathing, heart rate, and blood pressure.\n",
      "4. **Brainstem**: The brainstem connects the cerebrum to the spinal cord and regulates basic functions such as breathing, heart rate, and blood pressure. It consists of the midbrain, pons, and medulla oblongata.\n",
      "5. **Olfactory lobes**: The olfactory lobes are responsible for processing sensory information related to smell.\n",
      "6. **Pituitary gland**: The pituitary gland is a small endocrine gland that regulates hormone production and plays a role in growth and development.\n",
      "\n",
      "Other important functions of the brain include:\n",
      "\n",
      "* **Sensory processing**: The brain receives and interprets sensory information from the environment, such as sight, sound, touch, taste, and smell.\n",
      "* **Motor control**: The brain sends signals to the muscles and glands to control movement and other bodily functions.\n",
      "* **Emotion and motivation**: The brain plays a role in regulating emotions, motivation, and behavior.\n",
      "* **Memory and learning**: The brain is responsible for forming and storing memories, as well as learning new information and skills.\n",
      "\n",
      "Overall, the brain is a complex and highly specialized organ that plays a critical role in controlling the body's functions and enabling us to interact with the world around us.\n"
     ]
    }
   ],
   "source": [
    "from sentence_transformers import CrossEncoder\n",
    "from langchain.chains.question_answering import load_qa_chain\n",
    "from langchain.llms import OpenAI\n",
    "from langchain.schema import Document\n",
    "from typing import List\n",
    "\n",
    "reranker = CrossEncoder(\"cross-encoder/ms-marco-MiniLM-L-6-v2\")\n",
    "\n",
    "def rerank_documents(query: str, retrieved_docs: List[Document]) -> List[Document]:\n",
    "    \"\"\"Re-rank retrieved documents using a Cross-Encoder.\"\"\"\n",
    "    docs_texts = [doc.page_content for doc in retrieved_docs]\n",
    "    scores = reranker.predict([(query, doc) for doc in docs_texts])\n",
    "    \n",
    "    sorted_docs = [doc for _, doc in sorted(zip(scores, retrieved_docs), key=lambda x: x[0], reverse=True)]\n",
    "    return sorted_docs\n",
    "\n",
    "query = \"Explain the parts of human brain and their functions\"\n",
    "retrieved_docs = retriver.get_relevant_documents(query,k=5)  \n",
    "reranked_docs = rerank_documents(query, retrieved_docs)  \n",
    "\n",
    "qa_chain = load_qa_chain(llm, chain_type=\"stuff\")\n",
    "\n",
    "final_answer = qa_chain.run(input_documents=reranked_docs, question=query)\n",
    "\n",
    "\n",
    "print(\"\\n💡 AI Answer:\", final_answer)\n"
   ]
  },
  {
   "cell_type": "code",
   "execution_count": null,
   "id": "759b7486",
   "metadata": {},
   "outputs": [],
   "source": []
  }
 ],
 "metadata": {
  "kernelspec": {
   "display_name": "Python 3",
   "language": "python",
   "name": "python3"
  },
  "language_info": {
   "codemirror_mode": {
    "name": "ipython",
    "version": 3
   },
   "file_extension": ".py",
   "mimetype": "text/x-python",
   "name": "python",
   "nbconvert_exporter": "python",
   "pygments_lexer": "ipython3",
   "version": "3.10.16"
  }
 },
 "nbformat": 4,
 "nbformat_minor": 5
}
